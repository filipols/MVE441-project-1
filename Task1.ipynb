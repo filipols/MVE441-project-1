{
 "cells": [
  {
   "cell_type": "code",
   "execution_count": 26,
   "metadata": {},
   "outputs": [],
   "source": [
    "import numpy as np\n",
    "import pandas as pd\n",
    "import matplotlib.pyplot as plt\n",
    "\n",
    "# Load the data\n",
    "data = pd.read_csv(r'c:\\Users\\filip\\OneDrive\\Skrivbord\\Åk 4\\MVE441 Statistical Learning for Big Data\\Data\\TCGAdata.txt', delimiter = ' ')\n",
    "labels = pd.read_csv(r'c:\\Users\\filip\\OneDrive\\Skrivbord\\Åk 4\\MVE441 Statistical Learning for Big Data\\Data\\TCGAlabels.txt', delimiter = ' ')"
   ]
  },
  {
   "cell_type": "code",
   "execution_count": 32,
   "metadata": {},
   "outputs": [],
   "source": [
    "# Explore at least 3 different classifiers of different character\n",
    "# Perform cross-validation to select the number of principal components that optimizes predictive performance\n",
    "\n",
    "from sklearn.decomposition import PCA\n",
    "from sklearn.preprocessing import StandardScaler\n",
    "\n",
    "scaler = StandardScaler()\n",
    "scaled_data = scaler.fit_transform(data)\n",
    "\n",
    "pca  = PCA()\n",
    "\n",
    "pca.fit(scaled_data)\n",
    "\n",
    "pca_data = pca.transform(scaled_data)\n",
    "\n",
    "pca_df = pd.DataFrame(pca_data)\n",
    "\n"
   ]
  }
 ],
 "metadata": {
  "kernelspec": {
   "display_name": "Python 3",
   "language": "python",
   "name": "python3"
  },
  "language_info": {
   "codemirror_mode": {
    "name": "ipython",
    "version": 3
   },
   "file_extension": ".py",
   "mimetype": "text/x-python",
   "name": "python",
   "nbconvert_exporter": "python",
   "pygments_lexer": "ipython3",
   "version": "3.9.1"
  }
 },
 "nbformat": 4,
 "nbformat_minor": 2
}
